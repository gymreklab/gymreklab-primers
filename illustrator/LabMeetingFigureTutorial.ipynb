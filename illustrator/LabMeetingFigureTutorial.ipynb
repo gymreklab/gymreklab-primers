{
 "cells": [
  {
   "cell_type": "code",
   "execution_count": 4,
   "metadata": {},
   "outputs": [
    {
     "name": "stdout",
     "output_type": "stream",
     "text": [
      "Populating the interactive namespace from numpy and matplotlib\n"
     ]
    }
   ],
   "source": [
    "%pylab inline\n",
    "# Make editable in Illustrator\n",
    "import matplotlib\n",
    "matplotlib.rcParams['pdf.fonttype'] = 42\n",
    "matplotlib.rcParams['ps.fonttype'] = 42\n",
    "\n",
    "import pandas as pd\n",
    "\n",
    "adata = pd.read_csv(\"figure-tutorial-data.tab\", sep=\"\\t\")"
   ]
  },
  {
   "cell_type": "code",
   "execution_count": 6,
   "metadata": {},
   "outputs": [
    {
     "data": {
      "text/plain": [
       "(array([3.80000e+01, 3.26000e+02, 1.57560e+04, 1.36224e+05, 1.40260e+04,\n",
       "        4.63300e+03, 4.82000e+02, 7.30000e+01, 1.30000e+01, 7.00000e+00]),\n",
       " array([-19., -13.,  -7.,  -1.,   5.,  11.,  17.,  23.,  29.,  35.,  41.]),\n",
       " <a list of 10 Patch objects>)"
      ]
     },
     "execution_count": 6,
     "metadata": {},
     "output_type": "execute_result"
    },
    {
     "data": {
      "image/png": "[encoded data removed]",
      "text/plain": [
       "<Figure size 432x288 with 1 Axes>"
      ]
     },
     "metadata": {
      "needs_background": "light"
     },
     "output_type": "display_data"
    }
   ],
   "source": [
    "# Default - blah\n",
    "plt.hist(adata[\"mutsize\"])"
   ]
  },
  {
   "cell_type": "code",
   "execution_count": 6,
   "metadata": {},
   "outputs": [
    {
     "name": "stdout",
     "output_type": "stream",
     "text": [
      "171578\n"
     ]
    },
    {
     "data": {
      "image/png": "[encoded data removed]",
      "text/plain": [
       "<Figure size 432x288 with 1 Axes>"
      ]
     },
     "metadata": {
      "needs_background": "light"
     },
     "output_type": "display_data"
    }
   ],
   "source": [
    "NUMSTEPS = 15 # show mutations +/- this number\n",
    "bins = bins=np.arange(-1*NUMSTEPS,NUMSTEPS+1,1)\n",
    "\n",
    "fig = plt.figure()\n",
    "ax = fig.add_subplot(111)\n",
    "\n",
    "plotdata = adata\n",
    "print(plotdata.shape[0])\n",
    "ax.hist(plotdata[\"mutsize\"], color=\"black\", edgecolor=\"white\", bins=bins,\n",
    "       weights=np.zeros_like(plotdata[\"mutsize\"]) + 1. / plotdata[\"mutsize\"].size);\n",
    "\n",
    "ax.set_xlabel(\"Step size (repeat units)\", size=15)\n",
    "ax.set_ylabel(\"Fraction of mutations\", size=15)\n",
    "\n",
    "# Hide the right and top spines\n",
    "ax.spines['right'].set_visible(False)\n",
    "ax.spines['top'].set_visible(False)\n",
    "ax.yaxis.set_ticks_position('left')\n",
    "ax.xaxis.set_ticks_position('bottom');\n",
    "\n",
    "fig.savefig(\"tutorial-stepsize.pdf\")"
   ]
  },
  {
   "cell_type": "code",
   "execution_count": 7,
   "metadata": {},
   "outputs": [
    {
     "name": "stdout",
     "output_type": "stream",
     "text": [
      "Period 1\n",
      "MannwhitneyuResult(statistic=68346695.0, pvalue=4.0268488131390715e-10)\n",
      "Num pat: 12654\n",
      "Num mat: 11308\n",
      "Period 2\n",
      "MannwhitneyuResult(statistic=37948549.0, pvalue=5.5251755616526016e-238)\n",
      "Num pat: 17308\n",
      "Num mat: 5886\n",
      "Period 3\n",
      "MannwhitneyuResult(statistic=814108.5, pvalue=7.710652861310258e-12)\n",
      "Num pat: 2048\n",
      "Num mat: 896\n",
      "Period 4\n",
      "MannwhitneyuResult(statistic=5040744.0, pvalue=1.411427131221745e-68)\n",
      "Num pat: 6137\n",
      "Num mat: 1916\n",
      "Period 5\n",
      "MannwhitneyuResult(statistic=186497.0, pvalue=0.0023179448637239263)\n",
      "Num pat: 938\n",
      "Num mat: 425\n",
      "1.0\n",
      "2.0\n",
      "MannwhitneyuResult(statistic=316456830.0, pvalue=0.0)\n"
     ]
    },
    {
     "data": {
      "image/png": "[encoded data removed]",
      "text/plain": [
       "<Figure size 432x216 with 1 Axes>"
      ]
     },
     "metadata": {
      "needs_background": "light"
     },
     "output_type": "display_data"
    }
   ],
   "source": [
    "# Redo based on POO\n",
    "periods = range(1, 6)\n",
    "mean_steps_mother = []\n",
    "mean_steps_father = []\n",
    "stderr_steps_mother = []\n",
    "stderr_steps_father = []\n",
    "\n",
    "MAXSTEP = 25 # don't count anything outrageous\n",
    "\n",
    "for period in periods:\n",
    "    xdata1 = adata[(adata[\"period\"]==period) & (adata[\"poocase\"]==2)][\"mutsize\"]\n",
    "    xdata1 = xdata1[abs(xdata1)<=MAXSTEP]\n",
    "    xdata2 = adata[(adata[\"period\"]==period) & (adata[\"poocase\"]==3)][\"mutsize\"]\n",
    "    xdata2 = xdata2[abs(xdata2)<=MAXSTEP]\n",
    "\n",
    "    xdata1 = abs(xdata1)\n",
    "    xdata2 = abs(xdata2)\n",
    "    \n",
    "    mean_steps_father.append(np.mean(xdata1))\n",
    "    mean_steps_mother.append(np.mean(xdata2))\n",
    "    stderr_steps_father.append(np.sqrt(np.var(xdata1)/len(xdata1)))\n",
    "    stderr_steps_mother.append(np.sqrt(np.var(xdata2)/len(xdata2)))\n",
    "    \n",
    "    print(\"Period %s\"%period)\n",
    "    try:\n",
    "        print(scipy.stats.mannwhitneyu(xdata1, xdata2, alternative=\"less\"))\n",
    "        print(\"Num pat: %s\"%len(xdata1))\n",
    "        print(\"Num mat: %s\"%len(xdata2))\n",
    "    except: pass\n",
    "\n",
    "# overall\n",
    "xdata1 = adata[ (adata[\"poocase\"]==2)][\"mutsize\"]\n",
    "xdata1 = xdata1[abs(xdata1)<=MAXSTEP]\n",
    "xdata2 = adata[ (adata[\"poocase\"]==3)][\"mutsize\"]\n",
    "xdata2 = xdata2[abs(xdata2)<=MAXSTEP]\n",
    "xdata1 = abs(xdata1)\n",
    "xdata2 = abs(xdata2)\n",
    "print(np.median(xdata1))\n",
    "print(np.median(xdata2))\n",
    "print(scipy.stats.mannwhitneyu(xdata1, xdata2, alternative=\"less\"))\n",
    "\n",
    "w = 0.3\n",
    "fig = plt.figure()\n",
    "fig.set_size_inches((6, 3))\n",
    "ax = fig.add_subplot(111)\n",
    "ax.bar(periods, mean_steps_father, yerr=stderr_steps_father, width=w, color=\"black\", edgecolor=\"black\");\n",
    "ax.bar([item+w for item in periods], mean_steps_mother, yerr=stderr_steps_mother, width=w, color=\"gray\", edgecolor=\"black\");\n",
    "ax.set_xlabel(\"Repeat unit length (bp)\", size=15)\n",
    "ax.set_ylabel(\"Mean mutation size (bp)\", size=15)\n",
    "\n",
    "ax.spines['right'].set_visible(False)\n",
    "ax.spines['top'].set_visible(False)\n",
    "ax.yaxis.set_ticks_position('left')\n",
    "ax.xaxis.set_ticks_position('bottom');\n",
    "\n",
    "fig.savefig(\"tutorial-parentorigin.pdf\")\n"
   ]
  }
 ],
 "metadata": {
  "kernelspec": {
   "display_name": "Python 3",
   "language": "python",
   "name": "python3"
  },
  "language_info": {
   "codemirror_mode": {
    "name": "ipython",
    "version": 3
   },
   "file_extension": ".py",
   "mimetype": "text/x-python",
   "name": "python",
   "nbconvert_exporter": "python",
   "pygments_lexer": "ipython3",
   "version": "3.7.4"
  }
 },
 "nbformat": 4,
 "nbformat_minor": 4
}
